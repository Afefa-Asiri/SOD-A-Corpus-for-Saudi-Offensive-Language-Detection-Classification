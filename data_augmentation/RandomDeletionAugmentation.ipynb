{
  "nbformat": 4,
  "nbformat_minor": 0,
  "metadata": {
    "colab": {
      "provenance": []
    },
    "kernelspec": {
      "name": "python3",
      "display_name": "Python 3"
    },
    "language_info": {
      "name": "python"
    }
  },
  "cells": [
    {
      "cell_type": "code",
      "execution_count": null,
      "metadata": {
        "id": "Fd4coQXbZcF4"
      },
      "outputs": [],
      "source": [
        "import pandas as pd\n",
        "import random\n",
        "\n",
        "# Function to randomly delete words in a sentence\n",
        "def random_deletion(sentence, p=0.1):\n",
        "    if len(sentence.split()) == 1:  # Return the sentence if it has only one word\n",
        "        return sentence\n",
        "    words = sentence.split()\n",
        "    new_words = [word for word in words if random.random() > p]\n",
        "    # If all words are deleted, return a random word\n",
        "    if len(new_words) == 0:\n",
        "        return random.choice(words)\n",
        "    return ' '.join(new_words)\n",
        "\n",
        "# Set the random seed for reproducibility\n",
        "random.seed(0)\n",
        "\n",
        "# Load your dataset\n",
        "df = pd.read_csv(\"/content/AandBClasses.csv\")\n",
        "\n",
        "# Count the instances of each class\n",
        "class_counts = df['Class'].value_counts()\n",
        "augmentations_needed = class_counts['A'] - class_counts['B']\n",
        "\n",
        "# Filter for class 'B' and duplicate if necessary\n",
        "class_B = df[df['Class'] == 'B']\n",
        "augmented_class_B = pd.concat([class_B]*((augmentations_needed // len(class_B)) + 1), ignore_index=True)\n",
        "augmented_class_B = augmented_class_B.sample(n=augmentations_needed)\n",
        "\n",
        "# Apply random deletion augmentation\n",
        "augmented_class_B['Tweet'] = augmented_class_B['Tweet'].apply(random_deletion)\n",
        "\n",
        "# Combine with class 'A', shuffle and save\n",
        "balanced_df = pd.concat([df[df['Class'] == 'A'], augmented_class_B]).sample(frac=1).reset_index(drop=True)\n",
        "balanced_df.to_csv('/content/Augmented_random_deletion.csv', index=False)\n"
      ]
    },
    {
      "cell_type": "markdown",
      "source": [
        "In the code above, the resulted file did not balanced the dataset, insted I got:\n",
        "A    17509\n",
        "B    10501\n",
        "\n",
        "Now, I will apply another way to do Rrandom Deletion to generate a balanced dataset that has [17,509 ]  in each class."
      ],
      "metadata": {
        "id": "Kb0x2Z9AN1-s"
      }
    },
    {
      "cell_type": "code",
      "source": [
        "import pandas as pd\n",
        "import random\n",
        "\n",
        "# Function to randomly delete words in a sentence\n",
        "def random_deletion(sentence, p=0.1):\n",
        "    if len(sentence.split()) == 1:  # Return the sentence if it has only one word\n",
        "        return sentence\n",
        "    words = sentence.split()\n",
        "    new_words = [word for word in words if random.random() > p]\n",
        "    # If all words are deleted, return a random word\n",
        "    if len(new_words) == 0:\n",
        "        return random.choice(words)\n",
        "    return ' '.join(new_words)\n",
        "\n",
        "# Set the random seed for reproducibility\n",
        "random.seed(0)\n",
        "\n",
        "# Load your dataset\n",
        "df = pd.read_csv(\"/content/AandBClasses.csv\")\n",
        "\n",
        "# Filter for class 'B'\n",
        "class_B = df[df['Class'] == 'B']\n",
        "\n",
        "# Calculate the total number of class B instances needed\n",
        "total_class_B_needed = df['Class'].value_counts()['A']\n",
        "\n",
        "# If the original class B count is less than the required count, perform augmentation\n",
        "if len(class_B) < total_class_B_needed:\n",
        "    # Calculate the additional instances needed\n",
        "    additional_instances_needed = total_class_B_needed - len(class_B)\n",
        "\n",
        "    # Sample the additional instances (with replacement)\n",
        "    additional_class_B = class_B.sample(n=additional_instances_needed, replace=True)\n",
        "\n",
        "    # Apply random deletion augmentation\n",
        "    additional_class_B['Tweet'] = additional_class_B['Tweet'].apply(random_deletion)\n",
        "\n",
        "    # Combine with the original class B instances\n",
        "    class_B_augmented = pd.concat([class_B, additional_class_B])\n",
        "\n",
        "# Combine augmented class B with class A\n",
        "balanced_df = pd.concat([df[df['Class'] == 'A'], class_B_augmented]).sample(frac=1).reset_index(drop=True)\n",
        "\n",
        "# Save the balanced dataset\n",
        "balanced_df.to_csv('Augmented_Balanced_Random_Deletion.csv', index=False)\n"
      ],
      "metadata": {
        "id": "DtZQ8gsROLhd"
      },
      "execution_count": 1,
      "outputs": []
    }
  ]
}