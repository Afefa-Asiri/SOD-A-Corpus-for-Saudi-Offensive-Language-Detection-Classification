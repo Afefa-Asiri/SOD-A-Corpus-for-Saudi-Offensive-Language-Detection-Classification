{
  "nbformat": 4,
  "nbformat_minor": 0,
  "metadata": {
    "colab": {
      "provenance": [],
      "gpuType": "T4"
    },
    "kernelspec": {
      "name": "python3",
      "display_name": "Python 3"
    },
    "language_info": {
      "name": "python"
    },
    "accelerator": "GPU"
  },
  "cells": [
    {
      "cell_type": "code",
      "execution_count": null,
      "metadata": {
        "id": "QSPJyOtTJPC1"
      },
      "outputs": [],
      "source": [
        "import pandas as pd\n",
        "import random\n",
        "\n",
        "# Set the random seed\n",
        "random.seed(0)\n",
        "\n",
        "# Constants\n",
        "PUNCTUATIONS = ['.', ',', '!', '?', ';', ':']\n",
        "PUNC_RATIO = 0.3\n",
        "\n",
        "# Function to insert punctuation marks into a sentence\n",
        "def insert_punctuation_marks(sentence, punc_ratio=PUNC_RATIO):\n",
        "    words = sentence.split(' ')\n",
        "    new_line = []\n",
        "    q = random.randint(1, int(punc_ratio * len(words) + 1))\n",
        "    qs = random.sample(range(0, len(words)), q)\n",
        "\n",
        "    for j, word in enumerate(words):\n",
        "        if j in qs:\n",
        "            new_line.append(PUNCTUATIONS[random.randint(0, len(PUNCTUATIONS)-1)])\n",
        "            new_line.append(word)\n",
        "        else:\n",
        "            new_line.append(word)\n",
        "    new_line = ' '.join(new_line)\n",
        "    return new_line\n",
        "\n",
        "# Load the dataset\n",
        "df = pd.read_csv(\"/content/AandBClasses.csv\")\n",
        "\n",
        "# Count the instances of each class\n",
        "class_counts = df['Class'].value_counts()\n",
        "\n",
        "# Calculate the number of augmentations needed\n",
        "augmentations_needed = class_counts['A'] - class_counts['B']\n",
        "\n",
        "# Filter the dataset for class 'B'\n",
        "class_B = df[df['Class'] == 'B']\n",
        "\n",
        "# Create augmented entries\n",
        "augmented_entries = []\n",
        "for _ in range(augmentations_needed):\n",
        "    random_row = class_B.sample(1).iloc[0]\n",
        "    augmented_sentence = insert_punctuation_marks(random_row['Tweet'])\n",
        "    augmented_entries.append({'ID': random_row['ID'], 'Tweet': augmented_sentence, 'Class': 'B'})\n",
        "\n",
        "# Convert augmented entries to a DataFrame and append to the original dataset\n",
        "augmented_df = pd.DataFrame(augmented_entries)\n",
        "df_augmented = pd.concat([df, augmented_df])\n",
        "\n",
        "# Shuffle the dataset\n",
        "df_augmented = df_augmented.sample(frac=1).reset_index(drop=True)\n",
        "\n",
        "# Save the augmented dataset\n",
        "df_augmented.to_csv('Punctuation_Insertion_augmentation.csv', index=False)\n"
      ]
    }
  ]
}