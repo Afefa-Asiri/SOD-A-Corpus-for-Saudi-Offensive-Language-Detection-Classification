{
  "nbformat": 4,
  "nbformat_minor": 0,
  "metadata": {
    "colab": {
      "provenance": []
    },
    "kernelspec": {
      "name": "python3",
      "display_name": "Python 3"
    },
    "language_info": {
      "name": "python"
    }
  },
  "cells": [
    {
      "cell_type": "code",
      "execution_count": null,
      "metadata": {
        "id": "VBHKriEOYWja"
      },
      "outputs": [],
      "source": [
        "import pandas as pd\n",
        "import random\n",
        "\n",
        "# Function to randomly swap two words in a sentence\n",
        "def random_swap(sentence):\n",
        "    words = sentence.split()\n",
        "    if len(words) < 2:\n",
        "        return sentence\n",
        "    idx1, idx2 = random.sample(range(len(words)), 2)\n",
        "    words[idx1], words[idx2] = words[idx2], words[idx1]\n",
        "    return ' '.join(words)\n",
        "\n",
        "# Set the random seed\n",
        "random.seed(0)\n",
        "\n",
        "# Load your dataset\n",
        "df = pd.read_csv(\"/content/AandBClasses.csv\")\n",
        "\n",
        "# Count the instances of each class\n",
        "class_counts = df['Class'].value_counts()\n",
        "augmentations_needed = class_counts['A'] - class_counts['B']\n",
        "\n",
        "# Filter for class 'B' and duplicate if necessary\n",
        "class_B = df[df['Class'] == 'B']\n",
        "augmented_class_B = pd.concat([class_B]*((augmentations_needed // len(class_B)) + 1), ignore_index=True)\n",
        "augmented_class_B = augmented_class_B.sample(n=augmentations_needed)\n",
        "\n",
        "# Apply random swap augmentation\n",
        "augmented_class_B['Tweet'] = augmented_class_B['Tweet'].apply(random_swap)\n",
        "\n",
        "# Combine with class 'A' and shuffle\n",
        "balanced_df = pd.concat([df[df['Class'] == 'A'], augmented_class_B]).sample(frac=1).reset_index(drop=True)\n",
        "balanced_df.to_csv('/content/Augmented_random_swap.csv', index=False)\n"
      ]
    },
    {
      "cell_type": "markdown",
      "source": [
        "In the code above, the resulted file did not balanced the dataset, insted I got:\n",
        "A    17509\n",
        "B    10501\n",
        "\n",
        "Now, I will apply another way to do Rrandom Swap to generate a balanced dataset that has [17,509 ]  in each class."
      ],
      "metadata": {
        "id": "RZ_o8HMcQD_n"
      }
    },
    {
      "cell_type": "code",
      "source": [
        "import pandas as pd\n",
        "import random\n",
        "\n",
        "# Function to randomly swap two words in a sentence\n",
        "def random_swap(sentence):\n",
        "    words = sentence.split()\n",
        "    if len(words) < 2:\n",
        "        return sentence\n",
        "    idx1, idx2 = random.sample(range(len(words)), 2)\n",
        "    words[idx1], words[idx2] = words[idx2], words[idx1]\n",
        "    return ' '.join(words)\n",
        "\n",
        "# Set the random seed for reproducibility\n",
        "random.seed(0)\n",
        "\n",
        "# Load your dataset\n",
        "df = pd.read_csv(\"/content/AandBClasses.csv\")\n",
        "\n",
        "# Filter for class 'B'\n",
        "class_B = df[df['Class'] == 'B']\n",
        "\n",
        "# Calculate the total number of class B instances needed\n",
        "total_class_B_needed = df['Class'].value_counts()['A']\n",
        "\n",
        "# If the original class B count is less than the required count, perform augmentation\n",
        "if len(class_B) < total_class_B_needed:\n",
        "    # Calculate the additional instances needed\n",
        "    additional_instances_needed = total_class_B_needed - len(class_B)\n",
        "\n",
        "    # Sample the additional instances (with replacement)\n",
        "    additional_class_B = class_B.sample(n=additional_instances_needed, replace=True)\n",
        "\n",
        "    # Apply random swap augmentation\n",
        "    additional_class_B['Tweet'] = additional_class_B['Tweet'].apply(random_swap)\n",
        "\n",
        "    # Combine with the original class B instances\n",
        "    class_B_augmented = pd.concat([class_B, additional_class_B])\n",
        "\n",
        "# Combine augmented class B with class A\n",
        "balanced_df = pd.concat([df[df['Class'] == 'A'], class_B_augmented]).sample(frac=1).reset_index(drop=True)\n",
        "\n",
        "# Save the balanced dataset\n",
        "balanced_df.to_csv('Augmented_Balanced_Random_Swap.csv', index=False)\n"
      ],
      "metadata": {
        "id": "HGU_hXT0QJTo"
      },
      "execution_count": 1,
      "outputs": []
    }
  ]
}