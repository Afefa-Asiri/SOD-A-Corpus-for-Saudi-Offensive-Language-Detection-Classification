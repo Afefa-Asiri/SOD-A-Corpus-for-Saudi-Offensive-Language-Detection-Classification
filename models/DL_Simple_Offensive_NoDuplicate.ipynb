{
  "nbformat": 4,
  "nbformat_minor": 0,
  "metadata": {
    "colab": {
      "provenance": [],
      "gpuType": "T4"
    },
    "kernelspec": {
      "name": "python3",
      "display_name": "Python 3"
    },
    "language_info": {
      "name": "python"
    },
    "accelerator": "GPU"
  },
  "cells": [
    {
      "cell_type": "markdown",
      "source": [
        "Check the runtime  "
      ],
      "metadata": {
        "id": "59RjzeYLtLS6"
      }
    },
    {
      "cell_type": "code",
      "source": [
        "import torch\n",
        "\n",
        "# If there's a GPU available...\n",
        "if torch.cuda.is_available():\n",
        "\n",
        "    # Tell PyTorch to use the GPU.\n",
        "    device = torch.device(\"cuda\")\n",
        "\n",
        "    print('There are %d GPU(s) available.' % torch.cuda.device_count())\n",
        "\n",
        "    print('We will use the GPU:', torch.cuda.get_device_name(0))\n",
        "    !nvidia-smi\n",
        "\n",
        "# If not...\n",
        "else:\n",
        "    print('No GPU available, using the CPU instead.')\n",
        "    device = torch.device(\"cpu\")"
      ],
      "metadata": {
        "colab": {
          "base_uri": "https://localhost:8080/"
        },
        "id": "WHvsy-kCtKvi",
        "outputId": "f6169431-7396-425e-b04b-2cbe3885d4dc"
      },
      "execution_count": null,
      "outputs": [
        {
          "output_type": "stream",
          "name": "stdout",
          "text": [
            "There are 1 GPU(s) available.\n",
            "We will use the GPU: Tesla T4\n",
            "Mon Oct  2 04:46:52 2023       \n",
            "+-----------------------------------------------------------------------------+\n",
            "| NVIDIA-SMI 525.105.17   Driver Version: 525.105.17   CUDA Version: 12.0     |\n",
            "|-------------------------------+----------------------+----------------------+\n",
            "| GPU  Name        Persistence-M| Bus-Id        Disp.A | Volatile Uncorr. ECC |\n",
            "| Fan  Temp  Perf  Pwr:Usage/Cap|         Memory-Usage | GPU-Util  Compute M. |\n",
            "|                               |                      |               MIG M. |\n",
            "|===============================+======================+======================|\n",
            "|   0  Tesla T4            Off  | 00000000:00:04.0 Off |                    0 |\n",
            "| N/A   42C    P8    10W /  70W |      3MiB / 15360MiB |      0%      Default |\n",
            "|                               |                      |                  N/A |\n",
            "+-------------------------------+----------------------+----------------------+\n",
            "                                                                               \n",
            "+-----------------------------------------------------------------------------+\n",
            "| Processes:                                                                  |\n",
            "|  GPU   GI   CI        PID   Type   Process name                  GPU Memory |\n",
            "|        ID   ID                                                   Usage      |\n",
            "|=============================================================================|\n",
            "|  No running processes found                                                 |\n",
            "+-----------------------------------------------------------------------------+\n"
          ]
        }
      ]
    },
    {
      "cell_type": "markdown",
      "source": [
        "GPT-4"
      ],
      "metadata": {
        "id": "ip1x5W7es-zr"
      }
    },
    {
      "cell_type": "code",
      "execution_count": null,
      "metadata": {
        "colab": {
          "base_uri": "https://localhost:8080/",
          "height": 966
        },
        "id": "hTqzwgp3ssd6",
        "outputId": "f8ac6df6-4491-417a-a8bf-6743e5560b38"
      },
      "outputs": [
        {
          "output_type": "stream",
          "name": "stdout",
          "text": [
            "Epoch 1/3\n",
            "246/246 [==============================] - 29s 113ms/step - loss: 0.5106 - accuracy: 0.7630 - val_loss: 0.4336 - val_accuracy: 0.8058\n",
            "Epoch 2/3\n",
            "246/246 [==============================] - 16s 65ms/step - loss: 0.1588 - accuracy: 0.9426 - val_loss: 0.5060 - val_accuracy: 0.7971\n",
            "Epoch 3/3\n",
            "246/246 [==============================] - 7s 28ms/step - loss: 0.0208 - accuracy: 0.9954 - val_loss: 0.5817 - val_accuracy: 0.7984\n",
            "154/154 [==============================] - 0s 2ms/step - loss: 0.6116 - accuracy: 0.7931\n",
            "154/154 [==============================] - 0s 1ms/step\n",
            "Epoch 1/3\n",
            "246/246 [==============================] - 30s 116ms/step - loss: 0.4945 - accuracy: 0.7725 - val_loss: 0.4116 - val_accuracy: 0.8155\n",
            "Epoch 2/3\n",
            "246/246 [==============================] - 17s 70ms/step - loss: 0.1915 - accuracy: 0.9302 - val_loss: 0.4645 - val_accuracy: 0.8107\n",
            "Epoch 3/3\n",
            "246/246 [==============================] - 9s 35ms/step - loss: 0.0271 - accuracy: 0.9929 - val_loss: 0.6267 - val_accuracy: 0.8117\n",
            "154/154 [==============================] - 0s 3ms/step - loss: 0.6563 - accuracy: 0.8088\n",
            "154/154 [==============================] - 0s 2ms/step\n",
            "Epoch 1/3\n",
            "246/246 [==============================] - 34s 128ms/step - loss: 0.4842 - accuracy: 0.7845 - val_loss: 0.4207 - val_accuracy: 0.8208\n",
            "Epoch 2/3\n",
            "246/246 [==============================] - 16s 62ms/step - loss: 0.1705 - accuracy: 0.9341 - val_loss: 0.5591 - val_accuracy: 0.7941\n",
            "Epoch 3/3\n",
            "246/246 [==============================] - 10s 39ms/step - loss: 0.0344 - accuracy: 0.9892 - val_loss: 0.8089 - val_accuracy: 0.7821\n",
            "154/154 [==============================] - 1s 5ms/step - loss: 0.7942 - accuracy: 0.7882\n",
            "154/154 [==============================] - 1s 3ms/step\n",
            "  Model  Accuracy  Precision    Recall  F1-Score  F1 Macro  F1 Micro\n",
            "0  FFNN  0.793068   0.654038  0.495468  0.563816  0.714088  0.793068\n",
            "1   CNN  0.808767   0.718326  0.479607  0.575181  0.725896  0.808767\n",
            "2   GRU  0.788175   0.609869  0.597432  0.603586  0.729530  0.788175\n"
          ]
        },
        {
          "output_type": "display_data",
          "data": {
            "text/plain": [
              "<Figure size 1200x600 with 1 Axes>"
            ],
            "image/png": "[encoded data removed]"
          },
          "metadata": {}
        }
      ],
      "source": [
        "# Import necessary libraries\n",
        "import pandas as pd\n",
        "import numpy as np\n",
        "import tensorflow as tf\n",
        "from sklearn.model_selection import train_test_split\n",
        "from sklearn.metrics import precision_score, recall_score, f1_score\n",
        "import matplotlib.pyplot as plt\n",
        "\n",
        "# Load data\n",
        "data = pd.read_csv('/content/ReadyToUseSD_Offensive.csv')\n",
        "data['label'] = data['offensives'].map({'Offensive': 1, 'Non-Offensive': 0})\n",
        "\n",
        "# Tokenization and padding\n",
        "tokenizer = tf.keras.preprocessing.text.Tokenizer()\n",
        "tokenizer.fit_on_texts(data['Tweet'])\n",
        "sequences = tokenizer.texts_to_sequences(data['Tweet'])\n",
        "X = tf.keras.preprocessing.sequence.pad_sequences(sequences, maxlen=128)\n",
        "y = data['label'].values\n",
        "\n",
        "# Split data into training and testing sets\n",
        "X_train, X_test, y_train, y_test = train_test_split(X, y, test_size=0.2, random_state=42)\n",
        "\n",
        "# FFNN model\n",
        "def create_ffnn():\n",
        "    model = tf.keras.models.Sequential([\n",
        "        tf.keras.layers.Embedding(len(tokenizer.word_index) + 1, 100, input_length=128),\n",
        "        tf.keras.layers.Flatten(),\n",
        "        tf.keras.layers.Dense(128, activation='relu'),\n",
        "        tf.keras.layers.Dense(1, activation='sigmoid')\n",
        "    ])\n",
        "    model.compile(optimizer='adam', loss='binary_crossentropy', metrics=['accuracy'])\n",
        "    return model\n",
        "\n",
        "# CNN model\n",
        "def create_cnn():\n",
        "    model = tf.keras.models.Sequential([\n",
        "        tf.keras.layers.Embedding(len(tokenizer.word_index) + 1, 100, input_length=128),\n",
        "        tf.keras.layers.Conv1D(128, 5, activation='relu'),\n",
        "        tf.keras.layers.GlobalMaxPooling1D(),\n",
        "        tf.keras.layers.Dense(128, activation='relu'),\n",
        "        tf.keras.layers.Dense(1, activation='sigmoid')\n",
        "    ])\n",
        "    model.compile(optimizer='adam', loss='binary_crossentropy', metrics=['accuracy'])\n",
        "    return model\n",
        "\n",
        "# GRU model\n",
        "def create_gru():\n",
        "    model = tf.keras.models.Sequential([\n",
        "        tf.keras.layers.Embedding(len(tokenizer.word_index) + 1, 100, input_length=128),\n",
        "        tf.keras.layers.GRU(128),\n",
        "        tf.keras.layers.Dense(1, activation='sigmoid')\n",
        "    ])\n",
        "    model.compile(optimizer='adam', loss='binary_crossentropy', metrics=['accuracy'])\n",
        "    return model\n",
        "\n",
        "# Train and evaluate each model\n",
        "models = [('FFNN', create_ffnn), ('CNN', create_cnn), ('GRU', create_gru)]\n",
        "results = []\n",
        "\n",
        "for name, model_func in models:\n",
        "    model = model_func()\n",
        "    model.fit(X_train, y_train, epochs=3, batch_size=64, validation_split=0.2)\n",
        "    _, acc = model.evaluate(X_test, y_test)\n",
        "    y_pred = (model.predict(X_test) > 0.5).astype(\"int32\")\n",
        "    precision = precision_score(y_test, y_pred)\n",
        "    recall = recall_score(y_test, y_pred)\n",
        "    f1 = f1_score(y_test, y_pred)\n",
        "    f1_macro = f1_score(y_test, y_pred, average='macro')\n",
        "    f1_micro = f1_score(y_test, y_pred, average='micro')\n",
        "    results.append((name, acc, precision, recall, f1, f1_macro, f1_micro))\n",
        "\n",
        "# Print results in table format\n",
        "df = pd.DataFrame(results, columns=['Model', 'Accuracy', 'Precision', 'Recall', 'F1-Score', 'F1 Macro', 'F1 Micro'])\n",
        "print(df)\n",
        "\n",
        "# Plot results\n",
        "df.set_index('Model').drop(columns=['F1 Macro', 'F1 Micro']).plot(kind='bar', figsize=(12, 6), ylim=(0,1), rot=0)\n",
        "plt.ylabel('Score')\n",
        "plt.title('Model Performance')\n",
        "plt.show()\n"
      ]
    }
  ]
}