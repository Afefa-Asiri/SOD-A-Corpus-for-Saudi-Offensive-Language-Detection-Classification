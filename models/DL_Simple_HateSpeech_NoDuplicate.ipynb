{
  "nbformat": 4,
  "nbformat_minor": 0,
  "metadata": {
    "colab": {
      "provenance": [],
      "gpuType": "T4"
    },
    "kernelspec": {
      "name": "python3",
      "display_name": "Python 3"
    },
    "language_info": {
      "name": "python"
    },
    "accelerator": "GPU"
  },
  "cells": [
    {
      "cell_type": "code",
      "execution_count": null,
      "metadata": {
        "colab": {
          "base_uri": "https://localhost:8080/"
        },
        "id": "olbRwqxF7qz9",
        "outputId": "65ad33d7-a8f6-42f3-f6a2-eaff98d8a5de"
      },
      "outputs": [
        {
          "output_type": "stream",
          "name": "stdout",
          "text": [
            "There are 1 GPU(s) available.\n",
            "We will use the GPU: Tesla T4\n",
            "Mon Oct  2 05:51:51 2023       \n",
            "+-----------------------------------------------------------------------------+\n",
            "| NVIDIA-SMI 525.105.17   Driver Version: 525.105.17   CUDA Version: 12.0     |\n",
            "|-------------------------------+----------------------+----------------------+\n",
            "| GPU  Name        Persistence-M| Bus-Id        Disp.A | Volatile Uncorr. ECC |\n",
            "| Fan  Temp  Perf  Pwr:Usage/Cap|         Memory-Usage | GPU-Util  Compute M. |\n",
            "|                               |                      |               MIG M. |\n",
            "|===============================+======================+======================|\n",
            "|   0  Tesla T4            Off  | 00000000:00:04.0 Off |                    0 |\n",
            "| N/A   65C    P8    11W /  70W |      3MiB / 15360MiB |      0%      Default |\n",
            "|                               |                      |                  N/A |\n",
            "+-------------------------------+----------------------+----------------------+\n",
            "                                                                               \n",
            "+-----------------------------------------------------------------------------+\n",
            "| Processes:                                                                  |\n",
            "|  GPU   GI   CI        PID   Type   Process name                  GPU Memory |\n",
            "|        ID   ID                                                   Usage      |\n",
            "|=============================================================================|\n",
            "|  No running processes found                                                 |\n",
            "+-----------------------------------------------------------------------------+\n"
          ]
        }
      ],
      "source": [
        "import torch\n",
        "\n",
        "# If there's a GPU available...\n",
        "if torch.cuda.is_available():\n",
        "\n",
        "    # Tell PyTorch to use the GPU.\n",
        "    device = torch.device(\"cuda\")\n",
        "\n",
        "    print('There are %d GPU(s) available.' % torch.cuda.device_count())\n",
        "\n",
        "    print('We will use the GPU:', torch.cuda.get_device_name(0))\n",
        "    !nvidia-smi\n",
        "\n",
        "# If not...\n",
        "else:\n",
        "    print('No GPU available, using the CPU instead.')\n",
        "    device = torch.device(\"cpu\")"
      ]
    },
    {
      "cell_type": "markdown",
      "source": [
        "##Start The Experment:"
      ],
      "metadata": {
        "id": "gBIrcpAe7vM-"
      }
    },
    {
      "cell_type": "code",
      "source": [
        "# Import necessary libraries\n",
        "import pandas as pd\n",
        "import numpy as np\n",
        "import tensorflow as tf\n",
        "from sklearn.model_selection import train_test_split\n",
        "from sklearn.metrics import precision_score, recall_score, f1_score\n",
        "import matplotlib.pyplot as plt\n",
        "\n",
        "# Load data\n",
        "data = pd.read_csv('/content/ReadyToUseSD_HateSpeech_no_duplicates.csv')\n",
        "data['label'] = data['Hatespeech'].map({'Hate-Speech': 1}).fillna(0).astype(int)\n",
        "\n",
        "# Tokenization and padding\n",
        "tokenizer = tf.keras.preprocessing.text.Tokenizer()\n",
        "tokenizer.fit_on_texts(data['Tweet'])\n",
        "sequences = tokenizer.texts_to_sequences(data['Tweet'])\n",
        "X = tf.keras.preprocessing.sequence.pad_sequences(sequences, maxlen=128)\n",
        "y = data['label'].values\n",
        "\n",
        "# Split data into training and testing sets\n",
        "X_train, X_test, y_train, y_test = train_test_split(X, y, test_size=0.2, random_state=42)\n",
        "\n",
        "# FFNN model\n",
        "def create_ffnn():\n",
        "    model = tf.keras.models.Sequential([\n",
        "        tf.keras.layers.Embedding(len(tokenizer.word_index) + 1, 100, input_length=128),\n",
        "        tf.keras.layers.Flatten(),\n",
        "        tf.keras.layers.Dense(128, activation='relu'),\n",
        "        tf.keras.layers.Dense(1, activation='sigmoid')\n",
        "    ])\n",
        "    model.compile(optimizer='adam', loss='binary_crossentropy', metrics=['accuracy'])\n",
        "    return model\n",
        "\n",
        "# CNN model\n",
        "def create_cnn():\n",
        "    model = tf.keras.models.Sequential([\n",
        "        tf.keras.layers.Embedding(len(tokenizer.word_index) + 1, 100, input_length=128),\n",
        "        tf.keras.layers.Conv1D(128, 5, activation='relu'),\n",
        "        tf.keras.layers.GlobalMaxPooling1D(),\n",
        "        tf.keras.layers.Dense(128, activation='relu'),\n",
        "        tf.keras.layers.Dense(1, activation='sigmoid')\n",
        "    ])\n",
        "    model.compile(optimizer='adam', loss='binary_crossentropy', metrics=['accuracy'])\n",
        "    return model\n",
        "\n",
        "# GRU model\n",
        "def create_gru():\n",
        "    model = tf.keras.models.Sequential([\n",
        "        tf.keras.layers.Embedding(len(tokenizer.word_index) + 1, 100, input_length=128),\n",
        "        tf.keras.layers.GRU(128),\n",
        "        tf.keras.layers.Dense(1, activation='sigmoid')\n",
        "    ])\n",
        "    model.compile(optimizer='adam', loss='binary_crossentropy', metrics=['accuracy'])\n",
        "    return model\n",
        "\n",
        "# Train and evaluate each model\n",
        "models = [('FFNN', create_ffnn), ('CNN', create_cnn), ('GRU', create_gru)]\n",
        "results = []\n",
        "\n",
        "for name, model_func in models:\n",
        "    model = model_func()\n",
        "    model.fit(X_train, y_train, epochs=3, batch_size=64, validation_split=0.2)\n",
        "    _, acc = model.evaluate(X_test, y_test)\n",
        "    y_pred = (model.predict(X_test) > 0.5).astype(\"int32\")\n",
        "    precision = precision_score(y_test, y_pred)\n",
        "    recall = recall_score(y_test, y_pred)\n",
        "    f1 = f1_score(y_test, y_pred)\n",
        "    f1_macro = f1_score(y_test, y_pred, average='macro')\n",
        "    f1_micro = f1_score(y_test, y_pred, average='micro')\n",
        "    results.append((name, acc, precision, recall, f1, f1_macro, f1_micro))\n",
        "\n",
        "# Print results in table format\n",
        "df = pd.DataFrame(results, columns=['Model', 'Accuracy', 'Precision', 'Recall', 'F1-Score', 'F1 Macro', 'F1 Micro'])\n",
        "print(df)\n",
        "\n",
        "# Plot results\n",
        "df.set_index('Model').drop(columns=['F1 Macro', 'F1 Micro']).plot(kind='bar', figsize=(12, 6), ylim=(0,1), rot=0)\n",
        "plt.ylabel('Score')\n",
        "plt.title('Model Performance')\n",
        "plt.show()\n"
      ],
      "metadata": {
        "colab": {
          "base_uri": "https://localhost:8080/",
          "height": 1000
        },
        "id": "9ZCQhK3_7vnW",
        "outputId": "f1593f96-879c-4d5d-e7ce-7bfdf904ed64"
      },
      "execution_count": 2,
      "outputs": [
        {
          "output_type": "stream",
          "name": "stdout",
          "text": [
            "Epoch 1/3\n",
            "65/65 [==============================] - 19s 205ms/step - loss: 0.6107 - accuracy: 0.6802 - val_loss: 0.5959 - val_accuracy: 0.6868\n",
            "Epoch 2/3\n",
            "65/65 [==============================] - 11s 171ms/step - loss: 0.4360 - accuracy: 0.7743 - val_loss: 0.6138 - val_accuracy: 0.6966\n",
            "Epoch 3/3\n",
            "65/65 [==============================] - 9s 134ms/step - loss: 0.1347 - accuracy: 0.9744 - val_loss: 0.6815 - val_accuracy: 0.7024\n",
            "41/41 [==============================] - 0s 2ms/step - loss: 0.6488 - accuracy: 0.7049\n",
            "41/41 [==============================] - 0s 2ms/step\n",
            "Epoch 1/3\n",
            "65/65 [==============================] - 18s 170ms/step - loss: 0.6021 - accuracy: 0.6946 - val_loss: 0.5941 - val_accuracy: 0.6868\n",
            "Epoch 2/3\n",
            "65/65 [==============================] - 8s 128ms/step - loss: 0.4359 - accuracy: 0.7775 - val_loss: 0.6070 - val_accuracy: 0.6985\n",
            "Epoch 3/3\n",
            "65/65 [==============================] - 7s 103ms/step - loss: 0.1213 - accuracy: 0.9641 - val_loss: 0.8326 - val_accuracy: 0.6820\n",
            "41/41 [==============================] - 0s 3ms/step - loss: 0.8120 - accuracy: 0.6823\n",
            "41/41 [==============================] - 0s 2ms/step\n",
            "Epoch 1/3\n",
            "65/65 [==============================] - 14s 168ms/step - loss: 0.6053 - accuracy: 0.6953 - val_loss: 0.5794 - val_accuracy: 0.6985\n",
            "Epoch 2/3\n",
            "65/65 [==============================] - 7s 110ms/step - loss: 0.3565 - accuracy: 0.8444 - val_loss: 0.6804 - val_accuracy: 0.7132\n",
            "Epoch 3/3\n",
            "65/65 [==============================] - 9s 135ms/step - loss: 0.0693 - accuracy: 0.9790 - val_loss: 0.9681 - val_accuracy: 0.6878\n",
            "41/41 [==============================] - 0s 6ms/step - loss: 0.8690 - accuracy: 0.6854\n",
            "41/41 [==============================] - 0s 4ms/step\n",
            "  Model  Accuracy  Precision    Recall  F1-Score  F1 Macro  F1 Micro\n",
            "0  FFNN  0.704918   0.752266  0.849829  0.798077  0.625125  0.704918\n",
            "1   CNN  0.682279   0.787105  0.736064  0.760729  0.644011  0.682279\n",
            "2   GRU  0.685402   0.741870  0.830489  0.783682  0.603572  0.685402\n"
          ]
        },
        {
          "output_type": "display_data",
          "data": {
            "text/plain": [
              "<Figure size 1200x600 with 1 Axes>"
            ],
            "image/png": "[encoded data removed]"
          },
          "metadata": {}
        }
      ]
    }
  ]
}