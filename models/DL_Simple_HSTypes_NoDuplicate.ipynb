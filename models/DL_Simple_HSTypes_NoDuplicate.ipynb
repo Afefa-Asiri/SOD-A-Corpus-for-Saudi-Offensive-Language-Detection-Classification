{
  "nbformat": 4,
  "nbformat_minor": 0,
  "metadata": {
    "colab": {
      "provenance": [],
      "gpuType": "T4"
    },
    "kernelspec": {
      "name": "python3",
      "display_name": "Python 3"
    },
    "language_info": {
      "name": "python"
    },
    "accelerator": "GPU"
  },
  "cells": [
    {
      "cell_type": "code",
      "execution_count": null,
      "metadata": {
        "id": "IKJqiBrxBm45"
      },
      "outputs": [],
      "source": [
        "import torch\n",
        "\n",
        "# If there's a GPU available...\n",
        "if torch.cuda.is_available():\n",
        "\n",
        "    # Tell PyTorch to use the GPU.\n",
        "    device = torch.device(\"cuda\")\n",
        "\n",
        "    print('There are %d GPU(s) available.' % torch.cuda.device_count())\n",
        "\n",
        "    print('We will use the GPU:', torch.cuda.get_device_name(0))\n",
        "    !nvidia-smi\n",
        "\n",
        "# If not...\n",
        "else:\n",
        "    print('No GPU available, using the CPU instead.')\n",
        "    device = torch.device(\"cpu\")"
      ]
    },
    {
      "cell_type": "markdown",
      "source": [
        "##Start the Experment"
      ],
      "metadata": {
        "id": "d5HxbMX_BrXk"
      }
    },
    {
      "cell_type": "code",
      "source": [
        "# Import necessary libraries\n",
        "import pandas as pd\n",
        "import numpy as np\n",
        "import tensorflow as tf\n",
        "from sklearn.model_selection import train_test_split\n",
        "from sklearn.metrics import accuracy_score, precision_score, recall_score, f1_score, classification_report\n",
        "import matplotlib.pyplot as plt\n",
        "\n",
        "# Load data\n",
        "data = pd.read_csv('/content/ReadyToUseSD_HSTypes_no_duplicates.csv')\n",
        "\n",
        "# One-hot encoding\n",
        "y = pd.get_dummies(data['HSTypes']).values\n",
        "\n",
        "# Tokenization and padding\n",
        "tokenizer = tf.keras.preprocessing.text.Tokenizer()\n",
        "tokenizer.fit_on_texts(data['Tweet'])\n",
        "sequences = tokenizer.texts_to_sequences(data['Tweet'])\n",
        "X = tf.keras.preprocessing.sequence.pad_sequences(sequences, maxlen=128)\n",
        "\n",
        "# Convert to float32\n",
        "X = X.astype(np.float32)\n",
        "\n",
        "# Split data into training and testing sets\n",
        "X_train, X_test, y_train, y_test = train_test_split(X, y, test_size=0.2, random_state=42)\n",
        "\n",
        "# FFNN model\n",
        "def create_ffnn():\n",
        "    model = tf.keras.models.Sequential([\n",
        "        tf.keras.layers.Embedding(len(tokenizer.word_index) + 1, 100, input_length=128),\n",
        "        tf.keras.layers.Flatten(),\n",
        "        tf.keras.layers.Dense(128, activation='relu'),\n",
        "        tf.keras.layers.Dense(y_train.shape[1], activation='softmax')\n",
        "    ])\n",
        "    model.compile(optimizer='adam', loss='categorical_crossentropy', metrics=['accuracy'])\n",
        "    return model\n",
        "\n",
        "# CNN model\n",
        "def create_cnn():\n",
        "    model = tf.keras.models.Sequential([\n",
        "        tf.keras.layers.Embedding(len(tokenizer.word_index) + 1, 100, input_length=128),\n",
        "        tf.keras.layers.Conv1D(128, 5, activation='relu'),\n",
        "        tf.keras.layers.GlobalMaxPooling1D(),\n",
        "        tf.keras.layers.Dense(128, activation='relu'),\n",
        "        tf.keras.layers.Dense(y_train.shape[1], activation='softmax')\n",
        "    ])\n",
        "    model.compile(optimizer='adam', loss='categorical_crossentropy', metrics=['accuracy'])\n",
        "    return model\n",
        "\n",
        "# GRU model\n",
        "def create_gru():\n",
        "    model = tf.keras.models.Sequential([\n",
        "        tf.keras.layers.Embedding(len(tokenizer.word_index) + 1, 100, input_length=128),\n",
        "        tf.keras.layers.GRU(128),\n",
        "        tf.keras.layers.Dense(y_train.shape[1], activation='softmax')\n",
        "    ])\n",
        "    model.compile(optimizer='adam', loss='categorical_crossentropy', metrics=['accuracy'])\n",
        "    return model\n",
        "\n",
        "# Train and evaluate each model\n",
        "models = [('FFNN', create_ffnn), ('CNN', create_cnn), ('GRU', create_gru)]\n",
        "results = []\n",
        "\n",
        "for name, model_func in models:\n",
        "    model = model_func()\n",
        "    model.fit(X_train, y_train, epochs=3, batch_size=64, validation_split=0.2)\n",
        "    y_pred = model.predict(X_test).argmax(axis=1)\n",
        "    y_true = y_test.argmax(axis=1)\n",
        "\n",
        "    accuracy = accuracy_score(y_true, y_pred)\n",
        "    precision = precision_score(y_true, y_pred, average='weighted')\n",
        "    recall = recall_score(y_true, y_pred, average='weighted')\n",
        "    f1 = f1_score(y_true, y_pred, average='weighted')\n",
        "    f1_macro = f1_score(y_true, y_pred, average='macro')\n",
        "    f1_micro = f1_score(y_true, y_pred, average='micro')\n",
        "\n",
        "    results.append((name, accuracy, precision, recall, f1, f1_macro, f1_micro))\n",
        "\n",
        "# Create DataFrame to display results\n",
        "results_df = pd.DataFrame(results, columns=['Model', 'Accuracy', 'Precision', 'Recall', 'F1-Score', 'F1 Macro', 'F1 Micro'])\n",
        "print(results_df)\n",
        "\n",
        "# Plot results\n",
        "results_df.set_index('Model').drop(columns=['F1 Macro', 'F1 Micro']).plot(kind='bar', figsize=(12, 6), ylim=(0,1), rot=0)\n",
        "plt.ylabel('Score')\n",
        "plt.title('Model Performance')\n",
        "plt.show()\n"
      ],
      "metadata": {
        "colab": {
          "base_uri": "https://localhost:8080/",
          "height": 998
        },
        "id": "TaZy7F7YBrwB",
        "outputId": "2aab2dab-71f0-41d5-f7c4-55c3d0241cd5"
      },
      "execution_count": 1,
      "outputs": [
        {
          "output_type": "stream",
          "name": "stdout",
          "text": [
            "Epoch 1/3\n",
            "44/44 [==============================] - 15s 228ms/step - loss: 0.9992 - accuracy: 0.5094 - val_loss: 0.9450 - val_accuracy: 0.5793\n",
            "Epoch 2/3\n",
            "44/44 [==============================] - 9s 201ms/step - loss: 0.7216 - accuracy: 0.7621 - val_loss: 0.8292 - val_accuracy: 0.6282\n",
            "Epoch 3/3\n",
            "44/44 [==============================] - 7s 154ms/step - loss: 0.2437 - accuracy: 0.9409 - val_loss: 0.7169 - val_accuracy: 0.7061\n",
            "28/28 [==============================] - 0s 2ms/step\n",
            "Epoch 1/3\n",
            "44/44 [==============================] - 17s 243ms/step - loss: 1.0179 - accuracy: 0.4917 - val_loss: 0.9609 - val_accuracy: 0.5389\n",
            "Epoch 2/3\n",
            "44/44 [==============================] - 8s 191ms/step - loss: 0.7755 - accuracy: 0.6903 - val_loss: 0.7418 - val_accuracy: 0.6988\n",
            "Epoch 3/3\n",
            "44/44 [==============================] - 7s 156ms/step - loss: 0.3011 - accuracy: 0.9337 - val_loss: 0.7406 - val_accuracy: 0.7205\n",
            "28/28 [==============================] - 0s 3ms/step\n",
            "Epoch 1/3\n",
            "44/44 [==============================] - 14s 254ms/step - loss: 1.0026 - accuracy: 0.5043 - val_loss: 0.9323 - val_accuracy: 0.5951\n",
            "Epoch 2/3\n",
            "44/44 [==============================] - 8s 187ms/step - loss: 0.6761 - accuracy: 0.7318 - val_loss: 0.8067 - val_accuracy: 0.6801\n",
            "Epoch 3/3\n",
            "44/44 [==============================] - 7s 153ms/step - loss: 0.1735 - accuracy: 0.9405 - val_loss: 0.8715 - val_accuracy: 0.6657\n",
            "28/28 [==============================] - 1s 5ms/step\n",
            "  Model  Accuracy  Precision    Recall  F1-Score  F1 Macro  F1 Micro\n",
            "0  FFNN  0.694700   0.691451  0.694700  0.683296  0.633186  0.694700\n",
            "1   CNN  0.717742   0.742995  0.717742  0.712928  0.680329  0.717742\n",
            "2   GRU  0.683180   0.704719  0.683180  0.684414  0.648209  0.683180\n"
          ]
        },
        {
          "output_type": "display_data",
          "data": {
            "text/plain": [
              "<Figure size 1200x600 with 1 Axes>"
            ],
            "image/png": "[encoded data removed]"
          },
          "metadata": {}
        }
      ]
    }
  ]
}